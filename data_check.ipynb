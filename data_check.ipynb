{
 "cells": [
  {
   "cell_type": "markdown",
   "metadata": {},
   "source": [
    "计算图文都包含的数据条数"
   ]
  },
  {
   "cell_type": "code",
   "execution_count": null,
   "metadata": {},
   "outputs": [],
   "source": [
    "import json\n",
    "\n",
    "# 读取JSON文件，并指定编码为UTF-8\n",
    "with open(r'G:\\模型\\data\\news_data.json', 'r', encoding='utf-8') as file:\n",
    "    data = json.load(file)\n",
    "\n",
    "# 检查数组中的每个元素是否有键值为空\n",
    "for index, entry in enumerate(data):\n",
    "    if isinstance(entry, dict):  # 确保是字典类型\n",
    "        for key, value in entry.items():\n",
    "            if value is None or value == '':\n",
    "                print(f\"Entry at index {index} has empty value for key '{key}': {entry}\")\n",
    "\n",
    "# 如果你想要找出所有键值对为空的条目，可以这样做：\n",
    "empty_entries = [entry for entry in data if isinstance(entry, dict) and any(value is None or value == '' for value in entry.values())]\n",
    "\n",
    "# 打印出所有键值对为空的条目\n",
    "print(\"Entries with empty values:\")\n",
    "for entry in empty_entries:\n",
    "    print(entry)\n"
   ]
  },
  {
   "cell_type": "markdown",
   "metadata": {},
   "source": [
    "删除所有含空键的数据条"
   ]
  },
  {
   "cell_type": "code",
   "execution_count": 11,
   "metadata": {},
   "outputs": [
    {
     "name": "stdout",
     "output_type": "stream",
     "text": [
      "Original number of entries: 3544\n",
      "Number of entries after cleaning: 3101\n"
     ]
    }
   ],
   "source": [
    "import json\n",
    "\n",
    "# 读取JSON文件，并指定编码为UTF-8\n",
    "with open(r'G:\\模型\\data\\news_data.json', 'r', encoding='utf-8') as file:\n",
    "    data = json.load(file)\n",
    "\n",
    "# 删除所有包含空键值的条目\n",
    "cleaned_data = [entry for entry in data if isinstance(entry, dict) and not any(value is None or value == '' for value in entry.values())]\n",
    "\n",
    "# 如果需要，可以将清理后的数据写回JSON文件\n",
    "with open(r'G:\\模型\\data\\news_data_cleaned.json', 'w', encoding='utf-8') as file:\n",
    "    json.dump(cleaned_data, file, ensure_ascii=False, indent=4)\n",
    "\n",
    "# 打印结果，确认空键值条目已被删除\n",
    "print(\"Original number of entries:\", len(data))\n",
    "print(\"Number of entries after cleaning:\", len(cleaned_data))"
   ]
  },
  {
   "cell_type": "markdown",
   "metadata": {},
   "source": [
    "计算新闻条数（部分新闻包含多张照片）"
   ]
  },
  {
   "cell_type": "code",
   "execution_count": 12,
   "metadata": {},
   "outputs": [
    {
     "name": "stdout",
     "output_type": "stream",
     "text": [
      "Total number of unique 'text' values: 1081\n"
     ]
    }
   ],
   "source": [
    "import json\n",
    "\n",
    "# 读取JSON文件，并指定编码为UTF-8\n",
    "with open(r'G:\\模型\\data\\news_data.json', 'r', encoding='utf-8') as file:\n",
    "    data = json.load(file)\n",
    "\n",
    "# 初始化一个集合来存储唯一的text键值\n",
    "unique_texts = set()\n",
    "\n",
    "# 遍历数据，将text键值添加到集合中\n",
    "for entry in data:\n",
    "    if isinstance(entry, dict) and 'text' in entry:\n",
    "        unique_texts.add(entry['text'])\n",
    "\n",
    "# 计算唯一的text键值的总数\n",
    "unique_text_count = len(unique_texts)\n",
    "\n",
    "# 打印结果\n",
    "print(\"Total number of unique 'text' values:\", unique_text_count)\n"
   ]
  }
 ],
 "metadata": {
  "kernelspec": {
   "display_name": "base",
   "language": "python",
   "name": "python3"
  },
  "language_info": {
   "codemirror_mode": {
    "name": "ipython",
    "version": 3
   },
   "file_extension": ".py",
   "mimetype": "text/x-python",
   "name": "python",
   "nbconvert_exporter": "python",
   "pygments_lexer": "ipython3",
   "version": "3.9.13"
  }
 },
 "nbformat": 4,
 "nbformat_minor": 2
}
